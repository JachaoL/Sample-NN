{
 "cells": [
  {
   "cell_type": "code",
   "execution_count": 496,
   "metadata": {
    "collapsed": true,
    "pycharm": {
     "name": "#%%\n"
    }
   },
   "outputs": [
    {
     "name": "stdout",
     "output_type": "stream",
     "text": [
      "The autoreload extension is already loaded. To reload it, use:\n",
      "  %reload_ext autoreload\n"
     ]
    }
   ],
   "source": [
    "import numpy as np\n",
    "import h5py\n",
    "import matplotlib.pyplot as plt\n",
    "\n",
    "%matplotlib inline\n",
    "plt.rcParams['figure.figsize'] = (5.0, 4.0) # set default size of plots\n",
    "plt.rcParams['image.interpolation'] = 'nearest'\n",
    "plt.rcParams['image.cmap'] = 'gray'\n",
    "\n",
    "%load_ext autoreload\n",
    "%autoreload 2\n",
    "\n",
    "np.random.seed(1)"
   ]
  },
  {
   "cell_type": "code",
   "execution_count": 497,
   "outputs": [],
   "source": [
    "def forward_sigmoid(x):\n",
    "    \"\"\"\n",
    "    Compute the sigmoid function for the input x.\n",
    "\n",
    "    :param x:\n",
    "        A numpy float array\n",
    "\n",
    "    :return:\n",
    "        A numpy float array containing the sigmoid results\n",
    "    \"\"\"\n",
    "    return 1 / (1 + np.exp(-x))"
   ],
   "metadata": {
    "collapsed": false,
    "pycharm": {
     "name": "#%%\n"
    }
   }
  },
  {
   "cell_type": "code",
   "execution_count": 498,
   "outputs": [],
   "source": [
    "def backward_sigmoid(x, grad_outputs):\n",
    "    \"\"\"\n",
    "    Computer the gradient of the loss with respect to x.\n",
    "\n",
    "    grad_outputs is the gradient of the loss with respect to the outputs of the sigmoid.\n",
    "\n",
    "    :param x:\n",
    "        A 1d numpy float array of shape number_of_classes\n",
    "    :param grad_outputs:\n",
    "        A 1d numpy float array of shape number_of_classes\n",
    "\n",
    "    :return:\n",
    "        A 1d numpy float array of the same shape as x with the derivative of the loss with respect to x\n",
    "    \"\"\"\n",
    "    #dj/dz = dj/da * da/dz\n",
    "    s = forward_sigmoid(x)\n",
    "    assert (s.shape == x.shape)\n",
    "    return grad_outputs * (s * (1-s))"
   ],
   "metadata": {
    "collapsed": false,
    "pycharm": {
     "name": "#%%\n"
    }
   }
  },
  {
   "cell_type": "code",
   "execution_count": 499,
   "outputs": [],
   "source": [
    "def forward_relu(x):\n",
    "    \"\"\"\n",
    "    Compute the relu function for the input x.\n",
    "\n",
    "    :param x:\n",
    "        A numpy float array\n",
    "\n",
    "    :return:\n",
    "        A numpy float array containing the relu results\n",
    "    \"\"\"\n",
    "    x[x<=0] = 0\n",
    "\n",
    "    return x"
   ],
   "metadata": {
    "collapsed": false,
    "pycharm": {
     "name": "#%%\n"
    }
   }
  },
  {
   "cell_type": "code",
   "execution_count": 500,
   "outputs": [],
   "source": [
    "def backward_relu(x, grad_outputs):\n",
    "    \"\"\"\n",
    "    Compute the gradient of the loss with respect to x\n",
    "\n",
    "    :param x:\n",
    "        A numpy array of arbitrary shape containing the input.\n",
    "    :param grad_outputs:\n",
    "        A numpy array of the same shape of x containing the gradient of the loss with respect to the output of relu\n",
    "\n",
    "    :return:\n",
    "        A numpy array of the same shape as x containing the gradients with respect to x.\n",
    "    \"\"\"\n",
    "    #dj/dz = dj/da * da/dz\n",
    "    grad_outputs[x <= 0] = 0\n",
    "    assert (grad_outputs.shape == x.shape)\n",
    "    return grad_outputs"
   ],
   "metadata": {
    "collapsed": false,
    "pycharm": {
     "name": "#%%\n"
    }
   }
  },
  {
   "cell_type": "code",
   "execution_count": 501,
   "outputs": [],
   "source": [
    "def get_initial_params(layer_dims):\n",
    "    \"\"\"\n",
    "    :param layer_dims:\n",
    "        python array (list) containing the dimensions of each layer in our network\n",
    "\n",
    "    :return:\n",
    "        parameters -- python dictionary containing your parameters \"W1\", \"b1\", ..., \"WL\", \"bL\":\n",
    "                    Wl -- weight matrix of shape (layer_dims[l], layer_dims[l-1])\n",
    "                    bl -- bias vector of shape (layer_dims[l], 1)\n",
    "    \"\"\"\n",
    "    parameters = {}\n",
    "    L = len(layer_dims)            # number of layers in the network\n",
    "\n",
    "    for l in range(1, L):\n",
    "        parameters[f'W{l}'] = np.random.randn(layer_dims[l], layer_dims[l-1]) / np.sqrt(layer_dims[l-1])\n",
    "        parameters[f'b{l}'] = np.zeros((layer_dims[l], 1))\n",
    "\n",
    "    return parameters"
   ],
   "metadata": {
    "collapsed": false,
    "pycharm": {
     "name": "#%%\n"
    }
   }
  },
  {
   "cell_type": "code",
   "execution_count": 502,
   "outputs": [],
   "source": [
    "def forward_linear(weights, bias, data):\n",
    "    \"\"\"\n",
    "    Compute the output from a linear layer with the given weights, bias and data.\n",
    "\n",
    "    :param weights:\n",
    "        weights is of the shape (size of current layer, size of previous layer)\n",
    "    :param bias:\n",
    "        bias is of the shape (size of the current layer)\n",
    "    :param data:\n",
    "        data is of the shape (size of previous layer, number of examples)\n",
    "\n",
    "    :return:\n",
    "        The result of the linear layer\n",
    "        The output should be of the shape (size of current layer, number of examples)\n",
    "\n",
    "        da: (5, 209) //  weights: (1, 5) // grad: (1, 209)\n",
    "    \"\"\"\n",
    "    return weights @ data + bias"
   ],
   "metadata": {
    "collapsed": false,
    "pycharm": {
     "name": "#%%\n"
    }
   }
  },
  {
   "cell_type": "code",
   "execution_count": 503,
   "outputs": [],
   "source": [
    "def linear_backward(weights, bias, data, output_grad):\n",
    "    \"\"\"\n",
    "    Compute the gradients of the loss with respect to the parameters of a linear layer.\n",
    "\n",
    "    See forward_linear for information about the shapes of the variables.\n",
    "\n",
    "    output_grad is the gradient of the loss with respect to the output of this layer. (dJ/dZ or dZ)\n",
    "\n",
    "    :return:\n",
    "        A tuple with three elements:\n",
    "            - The gradient of the loss with respect to the weights\n",
    "            - The gradient of the loss with respect to the bias\n",
    "            - The gradient of the loss with respect to the activation of the previous layer\n",
    "    \"\"\"\n",
    "    _, m = data.shape\n",
    "    dW = (1/m) * (output_grad @ data.T)\n",
    "    db = (1/m) * np.sum(output_grad, axis=1, keepdims=True)\n",
    "    dA_prev = weights.T @ output_grad\n",
    "\n",
    "    assert (dA_prev.shape == data.shape)\n",
    "    assert (dW.shape == weights.shape)\n",
    "    assert (db.shape == bias.shape)\n",
    "\n",
    "    return dW, db, dA_prev"
   ],
   "metadata": {
    "collapsed": false,
    "pycharm": {
     "name": "#%%\n"
    }
   }
  },
  {
   "cell_type": "code",
   "execution_count": 504,
   "outputs": [],
   "source": [
    "def forward_prop(data, params):\n",
    "    \"\"\"\n",
    "    Implement forward propagation for the [LINEAR->RELU]*(L-1)->LINEAR->SIGMOID computation\n",
    "\n",
    "    :param data:\n",
    "        numpy array of shape (input size, number of examples)\n",
    "    :param params:\n",
    "        output of initialize_parameters_deep(). A dictionary mapping parameter names to numpy arrays with the parameters.\n",
    "\n",
    "    :return:\n",
    "        A 2 element tuple containing:\n",
    "            1. A numpy array The output (after the softmax) of the output layer\n",
    "            2. The outputs of every linear layer\n",
    "               (there are L-1 of them, indexed from 0 to L-1. L-1 from ReLu layers and 1 from Sigmoid layer. Sigmoid is indexed at L-1)\n",
    "    \"\"\"\n",
    "    L = len(params) // 2 # number of layers. Each layer has two variables w(x) and b\n",
    "\n",
    "    linear_outputs = []\n",
    "    activation_outputs = []\n",
    "    A = data\n",
    "    activation_outputs.append(A)\n",
    "\n",
    "    for l in range(1, L):\n",
    "        z = forward_linear(params[f'W{l}'], params[f'b{l}'], A)\n",
    "        A = forward_relu(z)\n",
    "        linear_outputs.append(z)\n",
    "        activation_outputs.append(A)\n",
    "\n",
    "    z = forward_linear(params[f'W{L}'], params[f'b{L}'], A)\n",
    "    A = forward_sigmoid(z)\n",
    "    linear_outputs.append(z)\n",
    "    activation_outputs.append(A)\n",
    "\n",
    "    return linear_outputs, activation_outputs"
   ],
   "metadata": {
    "collapsed": false,
    "pycharm": {
     "name": "#%%\n"
    }
   }
  },
  {
   "cell_type": "code",
   "execution_count": 505,
   "outputs": [],
   "source": [
    "def backward_prop(label, params, cache_z, cache_A):\n",
    "    \"\"\"\n",
    "    Implement forward propagation for the [LINEAR->RELU]*(L-1)->LINEAR->SIGMOID computation\n",
    "\n",
    "    :param label:\n",
    "        true \"label\" vector (containing 0 if non-cat, 1 if cat)\n",
    "    :param params:\n",
    "        output of initialize_parameters_deep(). A dictionary mapping parameter names to numpy arrays with the parameters.\n",
    "    :param cache_z:\n",
    "        output of the forward propagation (forward_prop(data, params)). The cached linear outputs \"z\".\n",
    "    :param cache_A:\n",
    "        output of the forward propagation (forward_prop(data, params)). The cached activation outputs \"A\" where l-1 is the output of the final layer o.\n",
    "\n",
    "    :return:\n",
    "        A dictionary of strings to numpy arrays where each key represents the name of a weight and the values represent the gradient of the loss with respect to that weight.\n",
    "    \"\"\"\n",
    "    L = len(params) // 2\n",
    "\n",
    "    o = cache_A[L]\n",
    "    _, m = o.shape\n",
    "    label = label.reshape(o.shape) # after this line, Y is the same shape as AL\n",
    "    grads = {}\n",
    "\n",
    "    # dJ/do for backprop\n",
    "    do = - (np.divide(label, o) - np.divide(1 - label, 1 - o))\n",
    "\n",
    "    dz = backward_sigmoid(cache_z[L-1], do)\n",
    "    grads[f'dW{L}'], grads[f'db{L}'], grads[f'dA{L-1}'] = linear_backward(params[f'W{L}'], params[f'b{L}'], cache_A[L-1], dz) #assign to values\n",
    "\n",
    "    for l in reversed(range(L-1)):\n",
    "        dz = backward_relu(cache_z[l], grads[f'dA{l+1}'])\n",
    "        grads[f'dW{l+1}'], grads[f'db{l+1}'], grads[f'dA{l}'] = linear_backward(params[f'W{l+1}'], params[f'b{l+1}'], cache_A[l], dz)\n",
    "\n",
    "    return grads"
   ],
   "metadata": {
    "collapsed": false,
    "pycharm": {
     "name": "#%%\n"
    }
   }
  },
  {
   "cell_type": "code",
   "execution_count": 506,
   "outputs": [],
   "source": [
    "def update_parameters(params, grads, learning_rate):\n",
    "    \"\"\"\n",
    "    Update parameters using gradient descent\n",
    "\n",
    "    :param params:\n",
    "        python dictionary containing your parameters\n",
    "    :param grads:\n",
    "        python dictionary containing your gradients, output of L_model_backward\n",
    "    :param learning_rate:\n",
    "        alpha. A larger value increases the step size of gradient descent.\n",
    "\n",
    "\n",
    "    :return:\n",
    "        parameters -- python dictionary containing your updated parameters\n",
    "                  parameters[\"W\" + str(l)] = ...\n",
    "                  parameters[\"b\" + str(l)] = ...\n",
    "    \"\"\"\n",
    "    L = len(params)//2\n",
    "\n",
    "    for l in range(1,L+1):\n",
    "        params[f'W{l}'] = params[f'W{l}'] - grads[f'dW{l}'] * learning_rate\n",
    "        params[f'b{l}'] = params[f'b{l}'] - grads[f'db{l}'] * learning_rate\n",
    "\n",
    "    return params"
   ],
   "metadata": {
    "collapsed": false,
    "pycharm": {
     "name": "#%%\n"
    }
   }
  },
  {
   "cell_type": "code",
   "execution_count": 507,
   "outputs": [],
   "source": [
    "def compute_cost(AL, Y):\n",
    "    \"\"\"\n",
    "    Implement the cost function defined by equation (7).\n",
    "\n",
    "    :param AL:\n",
    "        probability vector corresponding to your label predictions, shape (1, number of examples)\n",
    "    :param Y:\n",
    "        true \"label\" vector (for example: containing 0 if non-cat, 1 if cat), shape (1, number of examples)\n",
    "\n",
    "    Returns:\n",
    "    cost -- cross-entropy cost\n",
    "    \"\"\"\n",
    "\n",
    "    m = Y.shape[1]\n",
    "\n",
    "    # Compute loss from aL and y.\n",
    "    cost = (-1/m) * np.sum(Y@np.log(AL.T) + (1-Y)@np.log(1-AL.T))\n",
    "\n",
    "    cost = np.squeeze(cost)      # To make sure your cost's shape is what we expect (e.g. this turns [[17]] into 17).\n",
    "\n",
    "    return cost"
   ],
   "metadata": {
    "collapsed": false,
    "pycharm": {
     "name": "#%%\n"
    }
   }
  },
  {
   "cell_type": "code",
   "execution_count": 508,
   "outputs": [],
   "source": [
    "def L_layer_model(X, Y, layers_dims, learning_rate = 0.0075, num_iterations = 3000, print_cost=False):\n",
    "\n",
    "    costs = [] # store costs\n",
    "\n",
    "    params = get_initial_params(layers_dims)\n",
    "\n",
    "    for i in range(num_iterations):\n",
    "        z_cache, a_cache = forward_prop(X, params)\n",
    "\n",
    "        grads = backward_prop(Y, params, z_cache, a_cache)\n",
    "\n",
    "        cost = compute_cost(a_cache[-1], Y)\n",
    "\n",
    "        params = update_parameters(params, grads, learning_rate)\n",
    "\n",
    "        if print_cost and i % 100 == 0:\n",
    "            print (\"Cost after iteration %i: %f\" %(i, cost))\n",
    "        if print_cost and i % 100 == 0:\n",
    "            costs.append(cost)\n",
    "\n",
    "\n",
    "    # plot the cost\n",
    "    plt.plot(np.squeeze(costs))\n",
    "    plt.ylabel('cost')\n",
    "    plt.xlabel('iterations (per hundreds)')\n",
    "    plt.title(\"Learning rate =\" + str(learning_rate))\n",
    "    plt.show()\n",
    "\n",
    "    return params"
   ],
   "metadata": {
    "collapsed": false,
    "pycharm": {
     "name": "#%%\n"
    }
   }
  },
  {
   "cell_type": "code",
   "execution_count": 509,
   "outputs": [],
   "source": [
    "def predict(X, params, y = None):\n",
    "    \"\"\"\n",
    "    Predicts the result of this model\n",
    "    :param X:\n",
    "        The data set of examples you would like to label\n",
    "    :param params:\n",
    "        parameters of the trained (or untrained) model\n",
    "    :param y:\n",
    "        The proper labels if a prediction accuracy is desired\n",
    "\n",
    "    :return: the predictions p for the dataset\n",
    "    \"\"\"\n",
    "    _, m = X.shape\n",
    "    L = len(params) // 2\n",
    "    p = np.zeros(m)\n",
    "\n",
    "    _, a_cache = forward_prop(X, params)\n",
    "    probability = a_cache[-1] # is a (1, m) np array as there is only a single neuron at level L\n",
    "\n",
    "    for i in range(probability.shape[1]):\n",
    "\n",
    "        if probability[0,i] < .5:\n",
    "            p[i] = 0\n",
    "        else:\n",
    "            p[i] = 1\n",
    "\n",
    "    if y is not None:\n",
    "        print(\"Accuracy: \"  + str(np.sum((p == y)/m)))\n",
    "\n",
    "    return p"
   ],
   "metadata": {
    "collapsed": false,
    "pycharm": {
     "name": "#%%\n"
    }
   }
  },
  {
   "cell_type": "code",
   "execution_count": 510,
   "outputs": [],
   "source": [
    "def load_data(train_path, test_path):\n",
    "    train_dataset = h5py.File(train_path, \"r\")\n",
    "    test_dataset = h5py.File(test_path, \"r\")\n",
    "\n",
    "    train_x = np.array(train_dataset['train_set_x'][:])\n",
    "    train_y = np.array(train_dataset['train_set_y'][:])\n",
    "\n",
    "    test_x = np.array(test_dataset['test_set_x'][:])\n",
    "    test_y = np.array(test_dataset['test_set_y'][:])\n",
    "\n",
    "    classes = test_dataset['list_classes'][:]\n",
    "\n",
    "    train_y = train_y.reshape((1,train_y.shape[0]))\n",
    "    test_y = test_y.reshape((1, test_y.shape[0]))\n",
    "\n",
    "    return train_x, train_y, test_x, test_y, classes"
   ],
   "metadata": {
    "collapsed": false,
    "pycharm": {
     "name": "#%%\n"
    }
   }
  },
  {
   "cell_type": "code",
   "execution_count": 511,
   "outputs": [],
   "source": [
    "#load dataset\n",
    "train_x, train_y, test_x, test_y, classes = load_data('datasets/train_catvnoncat.h5', 'datasets/test_catvnoncat.h5')"
   ],
   "metadata": {
    "collapsed": false,
    "pycharm": {
     "name": "#%%\n"
    }
   }
  },
  {
   "cell_type": "code",
   "execution_count": 512,
   "outputs": [
    {
     "name": "stdout",
     "output_type": "stream",
     "text": [
      "Number of training examples: 209\n",
      "Number of testing examples: 50\n",
      "Each image is of size: (64, 64, 3)\n",
      "train_x_orig shape: (209, 64, 64, 3)\n",
      "train_y shape: (1, 209)\n",
      "test_x_orig shape: (50, 64, 64, 3)\n",
      "test_y shape: (1, 50)\n"
     ]
    }
   ],
   "source": [
    "# Explore your dataset\n",
    "m_train = train_x.shape[0]\n",
    "num_px = train_x.shape[1]\n",
    "m_test = test_x.shape[0]\n",
    "\n",
    "print (\"Number of training examples: \" + str(m_train))\n",
    "print (\"Number of testing examples: \" + str(m_test))\n",
    "print (\"Each image is of size: (\" + str(num_px) + \", \" + str(num_px) + \", 3)\")\n",
    "print (\"train_x_orig shape: \" + str(train_x.shape))\n",
    "print (\"train_y shape: \" + str(train_y.shape))\n",
    "print (\"test_x_orig shape: \" + str(test_x.shape))\n",
    "print (\"test_y shape: \" + str(test_y.shape))"
   ],
   "metadata": {
    "collapsed": false,
    "pycharm": {
     "name": "#%%\n"
    }
   }
  },
  {
   "cell_type": "code",
   "execution_count": 513,
   "outputs": [
    {
     "name": "stdout",
     "output_type": "stream",
     "text": [
      "train_x's shape: (12288, 209)\n",
      "test_x's shape: (12288, 50)\n"
     ]
    }
   ],
   "source": [
    "# Reshape the training and test examples\n",
    "# examples stored ||||||| (vertically)\n",
    "\n",
    "train_x_flatten = train_x.reshape(train_x.shape[0], -1).T   # The \"-1\" makes reshape flatten the remaining dimensions\n",
    "test_x_flatten = test_x.reshape(test_x.shape[0], -1).T\n",
    "\n",
    "# Standardize data to have feature values between 0 and 1.\n",
    "train_x = train_x_flatten/255\n",
    "test_x = test_x_flatten/255\n",
    "\n",
    "print (\"train_x's shape: \" + str(train_x.shape))\n",
    "print (\"test_x's shape: \" + str(test_x.shape))"
   ],
   "metadata": {
    "collapsed": false,
    "pycharm": {
     "name": "#%%\n"
    }
   }
  },
  {
   "cell_type": "code",
   "execution_count": 514,
   "outputs": [
    {
     "name": "stdout",
     "output_type": "stream",
     "text": [
      "Cost after iteration 0: 0.771749\n",
      "Cost after iteration 100: 0.672053\n",
      "Cost after iteration 200: 0.648263\n",
      "Cost after iteration 300: 0.611507\n",
      "Cost after iteration 400: 0.567047\n",
      "Cost after iteration 500: 0.540138\n",
      "Cost after iteration 600: 0.527930\n",
      "Cost after iteration 700: 0.465477\n",
      "Cost after iteration 800: 0.369126\n",
      "Cost after iteration 900: 0.391747\n",
      "Cost after iteration 1000: 0.315187\n",
      "Cost after iteration 1100: 0.272700\n",
      "Cost after iteration 1200: 0.237419\n",
      "Cost after iteration 1300: 0.199601\n",
      "Cost after iteration 1400: 0.189263\n",
      "Cost after iteration 1500: 0.161189\n",
      "Cost after iteration 1600: 0.148214\n",
      "Cost after iteration 1700: 0.137775\n",
      "Cost after iteration 1800: 0.129740\n",
      "Cost after iteration 1900: 0.121225\n",
      "Cost after iteration 2000: 0.113821\n",
      "Cost after iteration 2100: 0.107839\n",
      "Cost after iteration 2200: 0.102855\n",
      "Cost after iteration 2300: 0.100897\n",
      "Cost after iteration 2400: 0.092878\n"
     ]
    },
    {
     "data": {
      "text/plain": "<Figure size 500x400 with 1 Axes>",
      "image/png": "[encoded data removed]"
     },
     "metadata": {},
     "output_type": "display_data"
    },
    {
     "name": "stdout",
     "output_type": "stream",
     "text": [
      "Accuracy: 0.9856459330143539\n",
      "Accuracy: 0.0\n"
     ]
    },
    {
     "name": "stderr",
     "output_type": "stream",
     "text": [
      "C:\\Users\\Jachao Computer\\AppData\\Local\\Temp\\ipykernel_14984\\997068555.py:28: DeprecationWarning: elementwise comparison failed; this will raise an error in the future.\n",
      "  print(\"Accuracy: \"  + str(np.sum((p == y)/m)))\n"
     ]
    }
   ],
   "source": [
    "layers_dims = [12288, 20, 7, 5, 1]\n",
    "parameters = L_layer_model(train_x, train_y, layers_dims, num_iterations = 2500, print_cost = True)\n",
    "pred_train = predict(train_x, parameters, y = train_y)\n",
    "pred_test = predict(test_x, parameters, y = train_y)"
   ],
   "metadata": {
    "collapsed": false,
    "pycharm": {
     "name": "#%%\n"
    }
   }
  }
 ],
 "metadata": {
  "kernelspec": {
   "display_name": "Python 3",
   "language": "python",
   "name": "python3"
  },
  "language_info": {
   "codemirror_mode": {
    "name": "ipython",
    "version": 2
   },
   "file_extension": ".py",
   "mimetype": "text/x-python",
   "name": "python",
   "nbconvert_exporter": "python",
   "pygments_lexer": "ipython2",
   "version": "2.7.6"
  }
 },
 "nbformat": 4,
 "nbformat_minor": 0
}